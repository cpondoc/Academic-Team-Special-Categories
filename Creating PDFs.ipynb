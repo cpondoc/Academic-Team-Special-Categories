{
 "cells": [
  {
   "cell_type": "markdown",
   "metadata": {},
   "source": [
    "# Creating PDFs"
   ]
  },
  {
   "cell_type": "markdown",
   "metadata": {},
   "source": [
    "Creating PDFs for the questions."
   ]
  },
  {
   "cell_type": "markdown",
   "metadata": {},
   "source": [
    "### Importing Libraries"
   ]
  },
  {
   "cell_type": "markdown",
   "metadata": {},
   "source": [
    "csv to parse through .txt, FPDF to help run PDFs, and os to navigate the terminal line."
   ]
  },
  {
   "cell_type": "code",
   "execution_count": 1,
   "metadata": {},
   "outputs": [],
   "source": [
    "from fpdf import FPDF\n",
    "import csv\n",
    "import os"
   ]
  },
  {
   "cell_type": "markdown",
   "metadata": {},
   "source": [
    "### Extracting Data from Text File"
   ]
  },
  {
   "cell_type": "markdown",
   "metadata": {},
   "source": [
    "Obtaining all of the sample data from the text file."
   ]
  },
  {
   "cell_type": "code",
   "execution_count": 2,
   "metadata": {},
   "outputs": [],
   "source": [
    "def get_lines(doc):\n",
    "    file1 = open(\"questions/\" + str(doc),\"r\") \n",
    "    lines = file1.readlines()\n",
    "    file1.close()\n",
    "    return lines"
   ]
  },
  {
   "cell_type": "markdown",
   "metadata": {},
   "source": [
    "### Setting up the PDF"
   ]
  },
  {
   "cell_type": "markdown",
   "metadata": {},
   "source": [
    "Creating the PDF, setting the fonts and titles."
   ]
  },
  {
   "cell_type": "code",
   "execution_count": 3,
   "metadata": {},
   "outputs": [],
   "source": [
    "def create_pdf():\n",
    "    \n",
    "    # Letter size paper, use inches as unit of measure\n",
    "    pdf=FPDF(format='letter', unit='in')\n",
    "\n",
    "    # Add new page. Without this you cannot create the document.\n",
    "    pdf.add_page()\n",
    "    \n",
    "    # Adding a logo\n",
    "    pdf.image(\"images/fhslogo.png\", x=7, y=.1, w=1)\n",
    "\n",
    "    # Add new fonts\n",
    "    pdf.add_font('Poppins-Regular', '', 'fonts/Poppins/Poppins-Regular.ttf', uni=True)\n",
    "    pdf.add_font('Poppins-SemiBold', '', 'fonts/Poppins/Poppins-SemiBold.ttf', uni=True)\n",
    "    \n",
    "    # Return PDF\n",
    "    return pdf"
   ]
  },
  {
   "cell_type": "markdown",
   "metadata": {},
   "source": [
    "### Writing to the PDF"
   ]
  },
  {
   "cell_type": "markdown",
   "metadata": {},
   "source": [
    "Writing to the PDF."
   ]
  },
  {
   "cell_type": "code",
   "execution_count": 4,
   "metadata": {},
   "outputs": [],
   "source": [
    "def write_to_pdf(pdf, doc, lines):\n",
    "    \n",
    "    # Getting the correct title of the PDF and Document\n",
    "    title = manipulate_string(doc)\n",
    "    \n",
    "    # Setting the effective page width for word wrapping\n",
    "    effective_page_width = pdf.w - 2*pdf.l_margin\n",
    "    \n",
    "    # Setting the title\n",
    "    pdf.set_font(\"Poppins-SemiBold\", size=20) \n",
    "    pdf.cell(1.0,0.0, title + \" Trivia Questions:\")\n",
    "    pdf.ln(0.4)\n",
    "    \n",
    "    # Setting the Description\n",
    "    pdf.set_font(\"Poppins-Regular\", size=16)\n",
    "    pdf.cell(1.0,0.0, \"Made for the Frederick High School Academic Team\")\n",
    "    pdf.ln(0.25)\n",
    "\n",
    "    for i in range(0, len(lines) - 1):\n",
    "        if (lines[i] != \"\\n\"):\n",
    "            if (i % 3 == 0):\n",
    "                pdf.set_font(\"Poppins-SemiBold\", size=11)\n",
    "            else:\n",
    "                pdf.set_font(\"Poppins-Regular\", size=11)\n",
    "            line = lines[i].replace(\"\\n\", \"\")\n",
    "            line = line.replace(\"Term: \", \"Q: \")\n",
    "            line = line.replace(\"Definition: \", \"A: \")\n",
    "            pdf.ln(0.2)\n",
    "            pdf.multi_cell(effective_page_width, .2, txt=line, align=\"L\")\n",
    "\n",
    "    pdf.output('documents/' + title + '.pdf', 'F')"
   ]
  },
  {
   "cell_type": "markdown",
   "metadata": {},
   "source": [
    "### Creating title"
   ]
  },
  {
   "cell_type": "markdown",
   "metadata": {},
   "source": [
    "After parsing a title through os, this function makes the title look pretty."
   ]
  },
  {
   "cell_type": "code",
   "execution_count": 5,
   "metadata": {},
   "outputs": [],
   "source": [
    "def manipulate_string(title):\n",
    "    title = title.replace(\"-\", \" \")\n",
    "    title = title.replace(\".txt\", \"\")\n",
    "    title = title.title()\n",
    "    title = title.replace(\"Ii\", \"II\")\n",
    "    title = title.replace(\"S \", \"s \")\n",
    "    if (title == \"Star Wars\"):\n",
    "        return \"General Star Wars\"\n",
    "    else:\n",
    "        return title"
   ]
  },
  {
   "cell_type": "markdown",
   "metadata": {},
   "source": [
    "### Running Functions"
   ]
  },
  {
   "cell_type": "markdown",
   "metadata": {},
   "source": [
    "Runs functions for each of the special categories."
   ]
  },
  {
   "cell_type": "code",
   "execution_count": 6,
   "metadata": {},
   "outputs": [],
   "source": [
    "documents = (os.listdir(\"questions/\"))\n",
    "for doc in documents:\n",
    "    lines = get_lines(doc)\n",
    "    pdf = create_pdf()\n",
    "    write_to_pdf(pdf, doc, lines)"
   ]
  }
 ],
 "metadata": {
  "kernelspec": {
   "display_name": "Python 3",
   "language": "python",
   "name": "python3"
  },
  "language_info": {
   "codemirror_mode": {
    "name": "ipython",
    "version": 3
   },
   "file_extension": ".py",
   "mimetype": "text/x-python",
   "name": "python",
   "nbconvert_exporter": "python",
   "pygments_lexer": "ipython3",
   "version": "3.7.3"
  }
 },
 "nbformat": 4,
 "nbformat_minor": 2
}
